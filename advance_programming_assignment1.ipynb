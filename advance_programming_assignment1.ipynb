{
 "cells": [
  {
   "cell_type": "code",
   "execution_count": null,
   "metadata": {},
   "outputs": [],
   "source": [
    "Q1. What is the purpose of Python OOP?\n",
    "\n",
    "Q2. Where does an inheritance search look for an attribute?\n",
    "\n",
    "Q3. How do you distinguish between a class object and an instance object?\n",
    "\n",
    "Q4. What makes the first argument in a class’s method function special?\n",
    "\n",
    "Q5. What is the purpose of the __init__ method?\n",
    "\n",
    "Q6. What is the process for creating a class instance?\n",
    "\n",
    "Q7. What is the process for creating a class?\n",
    "\n",
    "Q8. How would you define the superclasses of a class?"
   ]
  },
  {
   "cell_type": "code",
   "execution_count": null,
   "metadata": {},
   "outputs": [],
   "source": [
    "A1. The purpose of python in oops is to make the python in object oriented programming. we can't write the code as an script for a big project. \n",
    "    we have to work with the functions that can be easily used by us and someone also.\n",
    "    \n",
    "A2. Inheritance is nothing its just about the classes. inheritance are of 2 types multiple inheritance and multilevel inheritance.\n",
    "    In inheritance there are classes under classes that we used the function of other classes also.\n",
    "    \n",
    "A3. Class is Data Type,You use this type to create object.Object is instance of class and instance means representative of class i.e object.\n",
    "\n",
    "A4. self makes the first argument as we know self is a pointer which point the instances to that particular class.\n",
    "\n",
    "A5. __init__ is a constructor which assigns the instance and allows the class to initialize the attributes of the class.\n",
    "\n",
    "A6. To create instances of a class, you call the class using class name and pass in whatever arguments its __init__ method accepts.\n",
    "\n",
    "A7. class class_name:\n",
    "        def __init__(self,a,b):\n",
    "            self.a = a\n",
    "            self.b = b\n",
    "        \n",
    "        def test(self):\n",
    "            print('this is my class')\n",
    "            \n",
    "A8. A superclass is the class from which many subclasses can be created. The subclasses inherit the characteristics of a superclass.\n"
   ]
  }
 ],
 "metadata": {
  "kernelspec": {
   "display_name": "Python 3",
   "language": "python",
   "name": "python3"
  },
  "language_info": {
   "codemirror_mode": {
    "name": "ipython",
    "version": 3
   },
   "file_extension": ".py",
   "mimetype": "text/x-python",
   "name": "python",
   "nbconvert_exporter": "python",
   "pygments_lexer": "ipython3",
   "version": "3.8.5"
  }
 },
 "nbformat": 4,
 "nbformat_minor": 4
}
